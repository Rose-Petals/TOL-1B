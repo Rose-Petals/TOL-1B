{
  "cells": [
    {
      "cell_type": "markdown",
      "metadata": {
        "id": "lkWStn8Y1GBG"
      },
      "source": [
        "# **Tree of Life Plan Team B**"
      ]
    },
    {
      "cell_type": "markdown",
      "metadata": {
        "id": "FZZa4iba9cNs"
      },
      "source": [
        "## Load Data"
      ]
    },
    {
      "cell_type": "markdown",
      "metadata": {},
      "source": [
        "# *********************DATASET 2 CLEANING*********"
      ]
    },
    {
      "cell_type": "code",
      "execution_count": 7,
      "metadata": {},
      "outputs": [
        {
          "name": "stdout",
          "output_type": "stream",
          "text": [
            "  INTAKE METHOD        Unnamed: 1  \\\n",
            "0          Call  Bariatric Doctor   \n",
            "1          Call     Family/Friend   \n",
            "2     Boom Form     Family/Friend   \n",
            "3     Boom Form     Family/Friend   \n",
            "4     Boom Form     Family/Friend   \n",
            "\n",
            "  Please be specific on who sent you our way, we'd like to thank them.   \\\n",
            "0                                   Bariatric Doctor                      \n",
            "1                                                Mom                      \n",
            "2                                             Friend                      \n",
            "3                                                NaN                      \n",
            "4                                                NaN                      \n",
            "\n",
            "     AGE       TOWN  INSURANCE CARRIER APPOINTMENT LOCATION APPOINTMENT TYPE  \\\n",
            "0  25-30  Elizabeth               BCBS              Virtual     Talk Therapy   \n",
            "1  10-15     Summit  United Healthcare              Virtual     Talk Therapy   \n",
            "2  20-25     Monroe               BCBS             Freehold     Talk Therapy   \n",
            "3  25-30      Ocean               BCBS             Freehold     Talk Therapy   \n",
            "4  30-35    Jackson              Aetna             Freehold     Talk Therapy   \n",
            "\n",
            "  If Talk Therapy, specifically what type?  Appointment Time Unnamed: 10  \\\n",
            "0                     Bariatric Evaluation     Evening (4-8)         NaN   \n",
            "1                       Individual (minor)  Afternoon (12-4)         NaN   \n",
            "2                       Individual (adult)  Afternoon (12-4)         NaN   \n",
            "3                       Individual (adult)  Afternoon (12-4)         NaN   \n",
            "4                       Individual (adult)  Afternoon (12-4)         NaN   \n",
            "\n",
            "   Unnamed: 11  \n",
            "0          NaN  \n",
            "1          NaN  \n",
            "2          NaN  \n",
            "3          NaN  \n",
            "4          NaN  \n"
          ]
        }
      ],
      "source": [
        "import pandas as pd\n",
        "import numpy as np\n",
        "\n",
        "url = \"https://raw.githubusercontent.com/Rose-Petals/TOL-1B/main/TOLCC%20Break%20Through%20Tech%20Dataset_2.csv\"\n",
        "\n",
        "df2 = pd.read_csv(url)\n",
        "\n",
        "print(df2.head())"
      ]
    },
    {
      "cell_type": "markdown",
      "metadata": {
        "id": "xgoJCTrxHvpd"
      },
      "source": [
        "### Reducing number of categories"
      ]
    },
    {
      "cell_type": "markdown",
      "metadata": {
        "id": "pBVfiPPhJ_xK"
      },
      "source": [
        "##### Group some of the categories for columns like age and town that have a large number of unique categories."
      ]
    },
    {
      "cell_type": "code",
      "execution_count": 8,
      "metadata": {
        "id": "uO-19o93H2sz"
      },
      "outputs": [],
      "source": [
        "df2.columns = df2.columns.str.strip().str.lower().str.replace(\" \", \"_\")\n",
        "df2.rename(columns={'if_talk_therapy,_specifically_what_type?': 'talk_therapy_type', 'unnamed:_1' : 'referer'}, inplace=True)\n",
        "df2.drop(columns= {\"please_be_specific_on_who_sent_you_our_way,_we'd_like_to_thank_them.\", \"unnamed:_10\", \"unnamed:_11\"}, inplace=True)"
      ]
    },
    {
      "cell_type": "code",
      "execution_count": 9,
      "metadata": {},
      "outputs": [
        {
          "data": {
            "text/plain": [
              "talk_therapy_type\n",
              "Individual (adult)      593\n",
              "Individual (minor)      248\n",
              "Couples                  57\n",
              "​                        18\n",
              "Family                    8\n",
              "Bariatric Evaluation      6\n",
              "Name: count, dtype: int64"
            ]
          },
          "execution_count": 9,
          "metadata": {},
          "output_type": "execute_result"
        }
      ],
      "source": [
        "#print(df2.isnull().sum())\n",
        "#df2['talk_therapy_type'] = df2['talk_therapy_type'].fillna(\"not_talk_therapy\")\n",
        "#print(df2.isnull().sum())\n",
        "df2['talk_therapy_type'].unique()\n",
        "df2['talk_therapy_type'].value_counts()"
      ]
    },
    {
      "cell_type": "code",
      "execution_count": 10,
      "metadata": {},
      "outputs": [
        {
          "data": {
            "text/plain": [
              "talk_therapy_type\n",
              "Individual              841\n",
              "Couples                  57\n",
              "Family                    8\n",
              "Bariatric Evaluation      6\n",
              "Name: count, dtype: int64"
            ]
          },
          "execution_count": 10,
          "metadata": {},
          "output_type": "execute_result"
        }
      ],
      "source": [
        "df2['talk_therapy_type'] = df2['talk_therapy_type'].replace('\\u200b', np.nan)\n",
        "df2['talk_therapy_type'] = df2['talk_therapy_type'].replace('Individual (minor)', 'Individual')\n",
        "df2['talk_therapy_type'] = df2['talk_therapy_type'].replace('Individual (adult)', 'Individual')\n",
        "df2['talk_therapy_type'].value_counts()"
      ]
    },
    {
      "cell_type": "code",
      "execution_count": 11,
      "metadata": {},
      "outputs": [
        {
          "name": "stdout",
          "output_type": "stream",
          "text": [
            "0       27.5\n",
            "1       12.5\n",
            "2       22.5\n",
            "3       27.5\n",
            "4       32.5\n",
            "        ... \n",
            "1030     7.5\n",
            "1031    12.5\n",
            "1032    17.5\n",
            "1033    42.5\n",
            "1034    22.5\n",
            "Name: age, Length: 1035, dtype: float64\n"
          ]
        }
      ],
      "source": [
        "def average_age(cell):\n",
        "    if pd.isna(cell):\n",
        "        return np.nan\n",
        "    values = str(cell).replace('-', ',').split(',')\n",
        "    nums = []\n",
        "    for val in values:\n",
        "        val = val.strip()\n",
        "        try:\n",
        "            nums.append(float(val))\n",
        "        except ValueError:\n",
        "            continue\n",
        "    if not nums:\n",
        "        return np.nan\n",
        "    return sum(nums) / len(nums)\n",
        "df2['age'] = df2['age'].apply(average_age)\n",
        "print(df2['age'])"
      ]
    },
    {
      "cell_type": "code",
      "execution_count": 12,
      "metadata": {},
      "outputs": [
        {
          "data": {
            "text/html": [
              "<div>\n",
              "<style scoped>\n",
              "    .dataframe tbody tr th:only-of-type {\n",
              "        vertical-align: middle;\n",
              "    }\n",
              "\n",
              "    .dataframe tbody tr th {\n",
              "        vertical-align: top;\n",
              "    }\n",
              "\n",
              "    .dataframe thead th {\n",
              "        text-align: right;\n",
              "    }\n",
              "</style>\n",
              "<table border=\"1\" class=\"dataframe\">\n",
              "  <thead>\n",
              "    <tr style=\"text-align: right;\">\n",
              "      <th></th>\n",
              "      <th>intake_method</th>\n",
              "      <th>referer</th>\n",
              "      <th>age</th>\n",
              "      <th>town</th>\n",
              "      <th>insurance_carrier</th>\n",
              "      <th>appointment_location</th>\n",
              "      <th>appointment_type</th>\n",
              "      <th>talk_therapy_type</th>\n",
              "      <th>appointment_time</th>\n",
              "    </tr>\n",
              "  </thead>\n",
              "  <tbody>\n",
              "    <tr>\n",
              "      <th>0</th>\n",
              "      <td>Call</td>\n",
              "      <td>Bariatric Doctor</td>\n",
              "      <td>27.5</td>\n",
              "      <td>Elizabeth</td>\n",
              "      <td>BCBS</td>\n",
              "      <td>Virtual</td>\n",
              "      <td>Talk Therapy</td>\n",
              "      <td>Bariatric Evaluation</td>\n",
              "      <td>Evening (4-8)</td>\n",
              "    </tr>\n",
              "    <tr>\n",
              "      <th>1</th>\n",
              "      <td>Call</td>\n",
              "      <td>Family/Friend</td>\n",
              "      <td>12.5</td>\n",
              "      <td>Summit</td>\n",
              "      <td>United Healthcare</td>\n",
              "      <td>Virtual</td>\n",
              "      <td>Talk Therapy</td>\n",
              "      <td>Individual</td>\n",
              "      <td>Afternoon (12-4)</td>\n",
              "    </tr>\n",
              "    <tr>\n",
              "      <th>2</th>\n",
              "      <td>Boom Form</td>\n",
              "      <td>Family/Friend</td>\n",
              "      <td>22.5</td>\n",
              "      <td>Monroe</td>\n",
              "      <td>BCBS</td>\n",
              "      <td>Freehold</td>\n",
              "      <td>Talk Therapy</td>\n",
              "      <td>Individual</td>\n",
              "      <td>Afternoon (12-4)</td>\n",
              "    </tr>\n",
              "    <tr>\n",
              "      <th>3</th>\n",
              "      <td>Boom Form</td>\n",
              "      <td>Family/Friend</td>\n",
              "      <td>27.5</td>\n",
              "      <td>Ocean</td>\n",
              "      <td>BCBS</td>\n",
              "      <td>Freehold</td>\n",
              "      <td>Talk Therapy</td>\n",
              "      <td>Individual</td>\n",
              "      <td>Afternoon (12-4)</td>\n",
              "    </tr>\n",
              "    <tr>\n",
              "      <th>4</th>\n",
              "      <td>Boom Form</td>\n",
              "      <td>Family/Friend</td>\n",
              "      <td>32.5</td>\n",
              "      <td>Jackson</td>\n",
              "      <td>Aetna</td>\n",
              "      <td>Freehold</td>\n",
              "      <td>Talk Therapy</td>\n",
              "      <td>Individual</td>\n",
              "      <td>Afternoon (12-4)</td>\n",
              "    </tr>\n",
              "  </tbody>\n",
              "</table>\n",
              "</div>"
            ],
            "text/plain": [
              "  intake_method           referer   age       town  insurance_carrier  \\\n",
              "0          Call  Bariatric Doctor  27.5  Elizabeth               BCBS   \n",
              "1          Call     Family/Friend  12.5     Summit  United Healthcare   \n",
              "2     Boom Form     Family/Friend  22.5     Monroe               BCBS   \n",
              "3     Boom Form     Family/Friend  27.5      Ocean               BCBS   \n",
              "4     Boom Form     Family/Friend  32.5    Jackson              Aetna   \n",
              "\n",
              "  appointment_location appointment_type     talk_therapy_type  \\\n",
              "0              Virtual     Talk Therapy  Bariatric Evaluation   \n",
              "1              Virtual     Talk Therapy            Individual   \n",
              "2             Freehold     Talk Therapy            Individual   \n",
              "3             Freehold     Talk Therapy            Individual   \n",
              "4             Freehold     Talk Therapy            Individual   \n",
              "\n",
              "   appointment_time  \n",
              "0     Evening (4-8)  \n",
              "1  Afternoon (12-4)  \n",
              "2  Afternoon (12-4)  \n",
              "3  Afternoon (12-4)  \n",
              "4  Afternoon (12-4)  "
            ]
          },
          "execution_count": 12,
          "metadata": {},
          "output_type": "execute_result"
        }
      ],
      "source": [
        "df2.head()"
      ]
    },
    {
      "cell_type": "code",
      "execution_count": 17,
      "metadata": {},
      "outputs": [
        {
          "data": {
            "text/plain": [
              "appointment_time\n",
              "Evening      397\n",
              "Afternoon    397\n",
              "Morning      240\n",
              "Name: count, dtype: int64"
            ]
          },
          "execution_count": 17,
          "metadata": {},
          "output_type": "execute_result"
        }
      ],
      "source": [
        "df2['appointment_time'].value_counts()\n",
        "df2['appointment_time'] = df2['appointment_time'].replace('Evening (4-8)' , 'Evening')\n",
        "df2['appointment_time'] = df2['appointment_time'].replace('Afternoon (12-4)' , 'Afternoon')\n",
        "df2['appointment_time'] = df2['appointment_time'].replace('Morning (9-12)' , 'Morning')\n",
        "df2['appointment_time'].value_counts()\n"
      ]
    }
  ],
  "metadata": {
    "colab": {
      "provenance": []
    },
    "kernelspec": {
      "display_name": "base",
      "language": "python",
      "name": "python3"
    },
    "language_info": {
      "codemirror_mode": {
        "name": "ipython",
        "version": 3
      },
      "file_extension": ".py",
      "mimetype": "text/x-python",
      "name": "python",
      "nbconvert_exporter": "python",
      "pygments_lexer": "ipython3",
      "version": "3.9.12"
    }
  },
  "nbformat": 4,
  "nbformat_minor": 0
}
