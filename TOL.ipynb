{
  "metadata": {
    "kernelspec": {
      "name": "python",
      "display_name": "Python (Pyodide)",
      "language": "python"
    },
    "language_info": {
      "codemirror_mode": {
        "name": "python",
        "version": 3
      },
      "file_extension": ".py",
      "mimetype": "text/x-python",
      "name": "python",
      "nbconvert_exporter": "python",
      "pygments_lexer": "ipython3",
      "version": "3.8"
    }
  },
  "nbformat_minor": 5,
  "nbformat": 4,
  "cells": [
    {
      "id": "56a4d745-9df8-418e-9b63-a9a06813253f",
      "cell_type": "code",
      "source": "import pandas as pd\nimport numpy as np\nimport os\n\n# Example: Create a DataFrame\nfilename = os.path.join(os.getcwd(), 'TOLCC Break Through Tech Dataset (1).csv')\ndf = pd.read_csv(filename)\ndf.head()",
      "metadata": {
        "trusted": true
      },
      "outputs": [
        {
          "execution_count": 1,
          "output_type": "execute_result",
          "data": {
            "text/plain": "  INTAKE METHOD        Unnamed: 1  \\\n0          Call  Bariatric Doctor   \n1          Call     Family/Friend   \n2     Boom Form     Family/Friend   \n3     Boom Form     Family/Friend   \n4     Boom Form     Family/Friend   \n\n  Please be specific on who sent you our way, we'd like to thank them.   \\\n0                                   Bariatric Doctor                      \n1                                                Mom                      \n2                                             Friend                      \n3                                                NaN                      \n4                                                NaN                      \n\n     AGE       TOWN  INSURANCE CARRIER APPOINTMENT LOCATION APPOINTMENT TYPE  \\\n0  25-30  Elizabeth               BCBS              Virtual     Talk Therapy   \n1  10-15     Summit  United Healthcare              Virtual     Talk Therapy   \n2  20-25     Monroe               BCBS             Freehold     Talk Therapy   \n3  25-30      Ocean               BCBS             Freehold     Talk Therapy   \n4  30-35    Jackson              Aetna             Freehold     Talk Therapy   \n\n  If Talk Therapy, specifically what type?  Appointment Time  ... Unnamed: 17  \\\n0                     Bariatric Evaluation     Evening (4-8)  ...         NaN   \n1                       Individual (minor)  Afternoon (12-4)  ...         NaN   \n2                       Individual (adult)  Afternoon (12-4)  ...         NaN   \n3                       Individual (adult)  Afternoon (12-4)  ...         NaN   \n4                       Individual (adult)  Afternoon (12-4)  ...         NaN   \n\n   Unnamed: 18  Unnamed: 19  Unnamed: 20  Unnamed: 21  Unnamed: 22  \\\n0          NaN          NaN          NaN          NaN          NaN   \n1          NaN          NaN          NaN          NaN          NaN   \n2          NaN          NaN          NaN          NaN          NaN   \n3          NaN          NaN          NaN          NaN          NaN   \n4          NaN          NaN          NaN          NaN          NaN   \n\n   Unnamed: 23  Unnamed: 24  Unnamed: 25  Unnamed: 26  \n0          NaN          NaN          NaN          NaN  \n1          NaN          NaN          NaN          NaN  \n2          NaN          NaN          NaN          NaN  \n3          NaN          NaN          NaN          NaN  \n4          NaN          NaN          NaN          NaN  \n\n[5 rows x 27 columns]",
            "text/html": "<div>\n<style scoped>\n    .dataframe tbody tr th:only-of-type {\n        vertical-align: middle;\n    }\n\n    .dataframe tbody tr th {\n        vertical-align: top;\n    }\n\n    .dataframe thead th {\n        text-align: right;\n    }\n</style>\n<table border=\"1\" class=\"dataframe\">\n  <thead>\n    <tr style=\"text-align: right;\">\n      <th></th>\n      <th>INTAKE METHOD</th>\n      <th>Unnamed: 1</th>\n      <th>Please be specific on who sent you our way, we'd like to thank them.</th>\n      <th>AGE</th>\n      <th>TOWN</th>\n      <th>INSURANCE CARRIER</th>\n      <th>APPOINTMENT LOCATION</th>\n      <th>APPOINTMENT TYPE</th>\n      <th>If Talk Therapy, specifically what type?</th>\n      <th>Appointment Time</th>\n      <th>...</th>\n      <th>Unnamed: 17</th>\n      <th>Unnamed: 18</th>\n      <th>Unnamed: 19</th>\n      <th>Unnamed: 20</th>\n      <th>Unnamed: 21</th>\n      <th>Unnamed: 22</th>\n      <th>Unnamed: 23</th>\n      <th>Unnamed: 24</th>\n      <th>Unnamed: 25</th>\n      <th>Unnamed: 26</th>\n    </tr>\n  </thead>\n  <tbody>\n    <tr>\n      <th>0</th>\n      <td>Call</td>\n      <td>Bariatric Doctor</td>\n      <td>Bariatric Doctor</td>\n      <td>25-30</td>\n      <td>Elizabeth</td>\n      <td>BCBS</td>\n      <td>Virtual</td>\n      <td>Talk Therapy</td>\n      <td>Bariatric Evaluation</td>\n      <td>Evening (4-8)</td>\n      <td>...</td>\n      <td>NaN</td>\n      <td>NaN</td>\n      <td>NaN</td>\n      <td>NaN</td>\n      <td>NaN</td>\n      <td>NaN</td>\n      <td>NaN</td>\n      <td>NaN</td>\n      <td>NaN</td>\n      <td>NaN</td>\n    </tr>\n    <tr>\n      <th>1</th>\n      <td>Call</td>\n      <td>Family/Friend</td>\n      <td>Mom</td>\n      <td>10-15</td>\n      <td>Summit</td>\n      <td>United Healthcare</td>\n      <td>Virtual</td>\n      <td>Talk Therapy</td>\n      <td>Individual (minor)</td>\n      <td>Afternoon (12-4)</td>\n      <td>...</td>\n      <td>NaN</td>\n      <td>NaN</td>\n      <td>NaN</td>\n      <td>NaN</td>\n      <td>NaN</td>\n      <td>NaN</td>\n      <td>NaN</td>\n      <td>NaN</td>\n      <td>NaN</td>\n      <td>NaN</td>\n    </tr>\n    <tr>\n      <th>2</th>\n      <td>Boom Form</td>\n      <td>Family/Friend</td>\n      <td>Friend</td>\n      <td>20-25</td>\n      <td>Monroe</td>\n      <td>BCBS</td>\n      <td>Freehold</td>\n      <td>Talk Therapy</td>\n      <td>Individual (adult)</td>\n      <td>Afternoon (12-4)</td>\n      <td>...</td>\n      <td>NaN</td>\n      <td>NaN</td>\n      <td>NaN</td>\n      <td>NaN</td>\n      <td>NaN</td>\n      <td>NaN</td>\n      <td>NaN</td>\n      <td>NaN</td>\n      <td>NaN</td>\n      <td>NaN</td>\n    </tr>\n    <tr>\n      <th>3</th>\n      <td>Boom Form</td>\n      <td>Family/Friend</td>\n      <td>NaN</td>\n      <td>25-30</td>\n      <td>Ocean</td>\n      <td>BCBS</td>\n      <td>Freehold</td>\n      <td>Talk Therapy</td>\n      <td>Individual (adult)</td>\n      <td>Afternoon (12-4)</td>\n      <td>...</td>\n      <td>NaN</td>\n      <td>NaN</td>\n      <td>NaN</td>\n      <td>NaN</td>\n      <td>NaN</td>\n      <td>NaN</td>\n      <td>NaN</td>\n      <td>NaN</td>\n      <td>NaN</td>\n      <td>NaN</td>\n    </tr>\n    <tr>\n      <th>4</th>\n      <td>Boom Form</td>\n      <td>Family/Friend</td>\n      <td>NaN</td>\n      <td>30-35</td>\n      <td>Jackson</td>\n      <td>Aetna</td>\n      <td>Freehold</td>\n      <td>Talk Therapy</td>\n      <td>Individual (adult)</td>\n      <td>Afternoon (12-4)</td>\n      <td>...</td>\n      <td>NaN</td>\n      <td>NaN</td>\n      <td>NaN</td>\n      <td>NaN</td>\n      <td>NaN</td>\n      <td>NaN</td>\n      <td>NaN</td>\n      <td>NaN</td>\n      <td>NaN</td>\n      <td>NaN</td>\n    </tr>\n  </tbody>\n</table>\n<p>5 rows × 27 columns</p>\n</div>"
          },
          "metadata": {}
        }
      ],
      "execution_count": 1
    },
    {
      "id": "c1a1b2a5-e0ce-4549-aff3-fdd569e9634f",
      "cell_type": "code",
      "source": "df = df.drop([\"Unnamed: 10\",\"Unnamed: 11\", \"Unnamed: 12\", \"Unnamed: 13\", \"Unnamed: 14\", \"Unnamed: 15\", \"Unnamed: 16\", \"Unnamed: 17\", \"Unnamed: 18\", \"Unnamed: 19\", \"Unnamed: 20\", \"Unnamed: 21\", \"Unnamed: 22\", \"Unnamed: 23\", \"Unnamed: 24\", \"Unnamed: 25\", \"Unnamed: 26\" ], axis = 1)\ndf.columns\ndf.head()",
      "metadata": {
        "trusted": true
      },
      "outputs": [
        {
          "execution_count": 4,
          "output_type": "execute_result",
          "data": {
            "text/plain": "Index(['INTAKE METHOD', 'Unnamed: 1',\n       'Please be specific on who sent you our way, we'd like to thank them. ',\n       'AGE', 'TOWN', 'INSURANCE CARRIER', 'APPOINTMENT LOCATION',\n       'APPOINTMENT TYPE', 'If Talk Therapy, specifically what type?',\n       'Appointment Time'],\n      dtype='object')"
          },
          "metadata": {}
        }
      ],
      "execution_count": 4
    },
    {
      "id": "e3d58d6e-21ea-4fae-afaf-a37ce9ee123f",
      "cell_type": "code",
      "source": "df.rename(columns = {\"Unnamed: 1\": \"Refferal method\", \"INTAKE METHOD\": \"Intake\", \"Please be specific on who sent you our way, we'd like to thank them. \": \"Referer\", \"AGE\": \"Age\", \"TOWN\": \"Town\", \"INSURANCE CARRIER\": \"Insurance\", \"APPOINTMENT LOCATION\": \"Appointment Location\", \"APPOINTMENT TYPE\": \"Appointment Type\"}, inplace = True)\ndf.columns",
      "metadata": {
        "trusted": true
      },
      "outputs": [
        {
          "execution_count": 6,
          "output_type": "execute_result",
          "data": {
            "text/plain": "Index(['Intake', 'Refferal method', 'Referer', 'Age', 'Town', 'Insurance',\n       'Appointment Location', 'Appointment Type',\n       'If Talk Therapy, specifically what type?', 'Appointment Time'],\n      dtype='object')"
          },
          "metadata": {}
        }
      ],
      "execution_count": 6
    },
    {
      "id": "bf4526e9-947e-4808-8766-7a70b30cc65e",
      "cell_type": "code",
      "source": "df[\"Appointment Type\"]",
      "metadata": {
        "trusted": true
      },
      "outputs": [
        {
          "execution_count": 7,
          "output_type": "execute_result",
          "data": {
            "text/plain": "0                Talk Therapy\n1                Talk Therapy\n2                Talk Therapy\n3                Talk Therapy\n4                Talk Therapy\n                ...          \n1030             Talk Therapy\n1031    Medication Management\n1032             Talk Therapy\n1033             Talk Therapy\n1034                      NaN\nName: Appointment Type, Length: 1035, dtype: object"
          },
          "metadata": {}
        }
      ],
      "execution_count": 7
    },
    {
      "id": "ec6069f5-7e00-4d80-aae2-32cb2e9c7da0",
      "cell_type": "code",
      "source": " ",
      "metadata": {
        "trusted": true
      },
      "outputs": [],
      "execution_count": null
    }
  ]
}