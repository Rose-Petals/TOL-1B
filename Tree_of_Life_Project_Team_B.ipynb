{
  "nbformat": 4,
  "nbformat_minor": 0,
  "metadata": {
    "colab": {
      "provenance": []
    },
    "kernelspec": {
      "name": "python3",
      "display_name": "Python 3"
    },
    "language_info": {
      "name": "python"
    }
  },
  "cells": [
    {
      "cell_type": "markdown",
      "source": [
        "# **Tree of Life Plan Team B**"
      ],
      "metadata": {
        "id": "lkWStn8Y1GBG"
      }
    },
    {
      "cell_type": "markdown",
      "source": [
        "## Load Data"
      ],
      "metadata": {
        "id": "FZZa4iba9cNs"
      }
    },
    {
      "cell_type": "code",
      "source": [
        "import pandas as pd\n",
        "\n",
        "url = \"https://raw.githubusercontent.com/Rose-Petals/TOL-1B/main/TOLCC%20Break%20Through%20Tech%20Dataset%20(1).csv\"\n",
        "\n",
        "df = pd.read_csv(url)\n",
        "\n",
        "print(df.head())"
      ],
      "metadata": {
        "id": "rdg1l6AR1Rr1",
        "colab": {
          "base_uri": "https://localhost:8080/"
        },
        "outputId": "8b7f3f23-7d82-48db-9995-5a97d0387ff0"
      },
      "execution_count": null,
      "outputs": [
        {
          "output_type": "stream",
          "name": "stdout",
          "text": [
            "  INTAKE METHOD        REFERENCES  \\\n",
            "0          Call  Bariatric Doctor   \n",
            "1          Call     Family/Friend   \n",
            "2     Boom Form     Family/Friend   \n",
            "3     Boom Form     Family/Friend   \n",
            "4     Boom Form     Family/Friend   \n",
            "\n",
            "  Please be specific on who sent you our way, we'd like to thank them.   \\\n",
            "0                                   Bariatric Doctor                      \n",
            "1                                                Mom                      \n",
            "2                                             Friend                      \n",
            "3                                                NaN                      \n",
            "4                                                NaN                      \n",
            "\n",
            "     AGE       TOWN  INSURANCE CARRIER APPOINTMENT LOCATION APPOINTMENT TYPE  \\\n",
            "0  25-30  Elizabeth               BCBS              Virtual     Talk Therapy   \n",
            "1  10-15     Summit  United Healthcare              Virtual     Talk Therapy   \n",
            "2  20-25     Monroe               BCBS             Freehold     Talk Therapy   \n",
            "3  25-30      Ocean               BCBS             Freehold     Talk Therapy   \n",
            "4  30-35    Jackson              Aetna             Freehold     Talk Therapy   \n",
            "\n",
            "  If Talk Therapy, specifically what type?  Appointment Time  ... Unnamed: 17  \\\n",
            "0                     Bariatric Evaluation     Evening (4-8)  ...         NaN   \n",
            "1                       Individual (minor)  Afternoon (12-4)  ...         NaN   \n",
            "2                       Individual (adult)  Afternoon (12-4)  ...         NaN   \n",
            "3                       Individual (adult)  Afternoon (12-4)  ...         NaN   \n",
            "4                       Individual (adult)  Afternoon (12-4)  ...         NaN   \n",
            "\n",
            "   Unnamed: 18  Unnamed: 19  Unnamed: 20  Unnamed: 21  Unnamed: 22  \\\n",
            "0          NaN          NaN          NaN          NaN          NaN   \n",
            "1          NaN          NaN          NaN          NaN          NaN   \n",
            "2          NaN          NaN          NaN          NaN          NaN   \n",
            "3          NaN          NaN          NaN          NaN          NaN   \n",
            "4          NaN          NaN          NaN          NaN          NaN   \n",
            "\n",
            "   Unnamed: 23  Unnamed: 24  Unnamed: 25  Unnamed: 26  \n",
            "0          NaN          NaN          NaN          NaN  \n",
            "1          NaN          NaN          NaN          NaN  \n",
            "2          NaN          NaN          NaN          NaN  \n",
            "3          NaN          NaN          NaN          NaN  \n",
            "4          NaN          NaN          NaN          NaN  \n",
            "\n",
            "[5 rows x 27 columns]\n"
          ]
        }
      ]
    },
    {
      "cell_type": "markdown",
      "source": [
        "## Data Cleaning"
      ],
      "metadata": {
        "id": "4uv4W5L89l9b"
      }
    },
    {
      "cell_type": "markdown",
      "source": [
        "### Removing and Renaming Columns"
      ],
      "metadata": {
        "id": "nlGImbqT-OfZ"
      }
    },
    {
      "cell_type": "code",
      "source": [
        "df = df.drop(columns=[col for col in df.columns if \"Unnamed\" in col])\n",
        "df = df.drop(columns=[\"Please be specific on who sent you our way, we'd like to thank them. \"])\n",
        "print(df.columns)\n",
        "\n"
      ],
      "metadata": {
        "colab": {
          "base_uri": "https://localhost:8080/"
        },
        "id": "dpNg0FD21yEw",
        "outputId": "e9d4abe6-bc52-4011-826d-44d3ab384de6"
      },
      "execution_count": null,
      "outputs": [
        {
          "output_type": "stream",
          "name": "stdout",
          "text": [
            "Index(['INTAKE METHOD', ' REFERENCES', 'AGE', 'TOWN', 'INSURANCE CARRIER',\n",
            "       'APPOINTMENT LOCATION', 'APPOINTMENT TYPE',\n",
            "       'If Talk Therapy, specifically what type?', 'Appointment Time'],\n",
            "      dtype='object')\n"
          ]
        }
      ]
    },
    {
      "cell_type": "code",
      "source": [
        "df.columns = df.columns.str.strip().str.lower().str.replace(\" \", \"_\")\n",
        "\n",
        "print(df.columns)"
      ],
      "metadata": {
        "colab": {
          "base_uri": "https://localhost:8080/"
        },
        "id": "WYM5ifDk143n",
        "outputId": "94581269-c86b-4a7d-8689-848053c1a70c"
      },
      "execution_count": null,
      "outputs": [
        {
          "output_type": "stream",
          "name": "stdout",
          "text": [
            "Index(['intake_method', 'references', 'age', 'town', 'insurance_carrier',\n",
            "       'appointment_location', 'appointment_type',\n",
            "       'if_talk_therapy,_specifically_what_type?', 'appointment_time'],\n",
            "      dtype='object')\n"
          ]
        }
      ]
    },
    {
      "cell_type": "code",
      "source": [
        "df.rename(columns={'if_talk_therapy,_specifically_what_type?': 'talk_therapy_type'}, inplace=True)\n",
        "df.columns"
      ],
      "metadata": {
        "id": "ypL-2tNo15wM",
        "colab": {
          "base_uri": "https://localhost:8080/"
        },
        "outputId": "88c7d990-8dd6-47da-a233-128e33e63300"
      },
      "execution_count": null,
      "outputs": [
        {
          "output_type": "execute_result",
          "data": {
            "text/plain": [
              "Index(['intake_method', 'references', 'age', 'town', 'insurance_carrier',\n",
              "       'appointment_location', 'appointment_type', 'talk_therapy_type',\n",
              "       'appointment_time'],\n",
              "      dtype='object')"
            ]
          },
          "metadata": {},
          "execution_count": 4
        }
      ]
    },
    {
      "cell_type": "markdown",
      "source": [
        "### Handling Missing Values"
      ],
      "metadata": {
        "id": "ma4WaHT4-bmM"
      }
    },
    {
      "cell_type": "code",
      "source": [
        "print(df.isnull().sum())"
      ],
      "metadata": {
        "id": "iwibQ9Fh6eIy",
        "colab": {
          "base_uri": "https://localhost:8080/"
        },
        "outputId": "844e52f8-b05a-48a0-fba2-8c0c1ab47c23"
      },
      "execution_count": null,
      "outputs": [
        {
          "output_type": "stream",
          "name": "stdout",
          "text": [
            "intake_method             0\n",
            "references                2\n",
            "age                       6\n",
            "town                      4\n",
            "insurance_carrier         2\n",
            "appointment_location      1\n",
            "appointment_type          1\n",
            "talk_therapy_type       105\n",
            "appointment_time          1\n",
            "dtype: int64\n"
          ]
        }
      ]
    },
    {
      "cell_type": "code",
      "source": [
        "df['talk_therapy_type'] = df['talk_therapy_type'].fillna(\"not_talk_therapy\")\n",
        "print(df.isnull().sum())"
      ],
      "metadata": {
        "colab": {
          "base_uri": "https://localhost:8080/"
        },
        "id": "bPlJrWrD7382",
        "outputId": "a16109de-c347-4c11-820d-403c7b3900ab"
      },
      "execution_count": null,
      "outputs": [
        {
          "output_type": "stream",
          "name": "stdout",
          "text": [
            "intake_method           0\n",
            "references              2\n",
            "age                     6\n",
            "town                    4\n",
            "insurance_carrier       2\n",
            "appointment_location    1\n",
            "appointment_type        1\n",
            "talk_therapy_type       0\n",
            "appointment_time        1\n",
            "dtype: int64\n"
          ]
        }
      ]
    },
    {
      "cell_type": "code",
      "source": [
        "# Column Types\n",
        "df.dtypes"
      ],
      "metadata": {
        "colab": {
          "base_uri": "https://localhost:8080/",
          "height": 366
        },
        "id": "U2xlzhVk_2wm",
        "outputId": "50a73cc1-e501-4659-9ea9-867d1ab36776"
      },
      "execution_count": null,
      "outputs": [
        {
          "output_type": "execute_result",
          "data": {
            "text/plain": [
              "intake_method           object\n",
              "references              object\n",
              "age                     object\n",
              "town                    object\n",
              "insurance_carrier       object\n",
              "appointment_location    object\n",
              "appointment_type        object\n",
              "talk_therapy_type       object\n",
              "appointment_time        object\n",
              "dtype: object"
            ],
            "text/html": [
              "<div>\n",
              "<style scoped>\n",
              "    .dataframe tbody tr th:only-of-type {\n",
              "        vertical-align: middle;\n",
              "    }\n",
              "\n",
              "    .dataframe tbody tr th {\n",
              "        vertical-align: top;\n",
              "    }\n",
              "\n",
              "    .dataframe thead th {\n",
              "        text-align: right;\n",
              "    }\n",
              "</style>\n",
              "<table border=\"1\" class=\"dataframe\">\n",
              "  <thead>\n",
              "    <tr style=\"text-align: right;\">\n",
              "      <th></th>\n",
              "      <th>0</th>\n",
              "    </tr>\n",
              "  </thead>\n",
              "  <tbody>\n",
              "    <tr>\n",
              "      <th>intake_method</th>\n",
              "      <td>object</td>\n",
              "    </tr>\n",
              "    <tr>\n",
              "      <th>references</th>\n",
              "      <td>object</td>\n",
              "    </tr>\n",
              "    <tr>\n",
              "      <th>age</th>\n",
              "      <td>object</td>\n",
              "    </tr>\n",
              "    <tr>\n",
              "      <th>town</th>\n",
              "      <td>object</td>\n",
              "    </tr>\n",
              "    <tr>\n",
              "      <th>insurance_carrier</th>\n",
              "      <td>object</td>\n",
              "    </tr>\n",
              "    <tr>\n",
              "      <th>appointment_location</th>\n",
              "      <td>object</td>\n",
              "    </tr>\n",
              "    <tr>\n",
              "      <th>appointment_type</th>\n",
              "      <td>object</td>\n",
              "    </tr>\n",
              "    <tr>\n",
              "      <th>talk_therapy_type</th>\n",
              "      <td>object</td>\n",
              "    </tr>\n",
              "    <tr>\n",
              "      <th>appointment_time</th>\n",
              "      <td>object</td>\n",
              "    </tr>\n",
              "  </tbody>\n",
              "</table>\n",
              "</div><br><label><b>dtype:</b> object</label>"
            ]
          },
          "metadata": {},
          "execution_count": 7
        }
      ]
    },
    {
      "cell_type": "code",
      "source": [
        "# 'age' is a categorical variable with nan values.\n",
        "print(\"Number of unique categories for 'age' column : \", df['age'].nunique())\n",
        "print()\n",
        "print(df['age'].unique())"
      ],
      "metadata": {
        "colab": {
          "base_uri": "https://localhost:8080/"
        },
        "id": "Scmss3BM8xXY",
        "outputId": "f3555209-557f-4c64-da6c-71810ea2316f"
      },
      "execution_count": null,
      "outputs": [
        {
          "output_type": "stream",
          "name": "stdout",
          "text": [
            "Number of unique categories for 'age' column :  44\n",
            "\n",
            "['25-30' '10-15' '20-25' '30-35' nan '15-20' '60-65' '40-45' '1-5' '5-10'\n",
            " '50-55' '55-60' '35-40' '65-70' '35-40; 35-40' '50-55; 45-50'\n",
            " '25-30; 30-35' '50-55; 50-55' '30-35; 40-45' '30-35; 30-35'\n",
            " '45-50; 40-45' '55--60' '75-80' '70-75' '80-85' '85-90' '35-40; 40-45'\n",
            " '65-70; 65-70' '40-45; 50-55' '55-60; 55-60' '25-20' '45-50; 45-50'\n",
            " '60-65; 55-60' '55-60; 60-65' '45-50' '30-35; 25-30' '40-45; 35-40'\n",
            " '25-30; 25-30' '40-45; 40-45' '55-60; 50-55' '35-40; 30-35'\n",
            " '60-65; 60-65' '25-30; 20-25' '30-35; 35-40' '45-50; 50-55']\n"
          ]
        }
      ]
    },
    {
      "cell_type": "markdown",
      "source": [
        "###### The 'appointment_time' column is our column of interest. So, remove the row with a missing value for 'appointment time."
      ],
      "metadata": {
        "id": "SwfNsycL_tsq"
      }
    },
    {
      "cell_type": "code",
      "source": [
        "print(\"Number of rows in df before drop : \", df.shape[0])\n",
        "print()\n",
        "print(df[df['appointment_time'].isnull()])\n",
        "to_remove_index = df[df['appointment_time'].isnull()].index\n",
        "df.drop(to_remove_index, inplace = True)\n",
        "print()\n",
        "print(\"Number of rows in df after drop: \", df.shape[0])"
      ],
      "metadata": {
        "id": "-zOJ3aZsCizl",
        "colab": {
          "base_uri": "https://localhost:8080/"
        },
        "outputId": "1591c976-d607-43b2-aaf4-9fc0e1b3a658"
      },
      "execution_count": null,
      "outputs": [
        {
          "output_type": "stream",
          "name": "stdout",
          "text": [
            "Number of rows in df before drop :  1035\n",
            "\n",
            "     intake_method     references    age         town insurance_carrier  \\\n",
            "1034     Boom Form  Family/Friend  20-25  Union Beach             Aetna   \n",
            "\n",
            "     appointment_location appointment_type talk_therapy_type appointment_time  \n",
            "1034                  NaN              NaN  not_talk_therapy              NaN  \n",
            "\n",
            "Number of rows in df after drop:  1034\n"
          ]
        }
      ]
    },
    {
      "cell_type": "code",
      "source": [
        "# Replacing missing values in the other categorical variables with 'Unknown'\n",
        "categorical_cols = ['references', 'age', 'town', 'insurance_carrier', 'appointment_location', 'appointment_type']\n",
        "\n",
        "for col in categorical_cols:\n",
        "  df[col] = df[col].fillna(\"Unknown\")\n",
        "\n",
        "print(df.isnull().sum())"
      ],
      "metadata": {
        "colab": {
          "base_uri": "https://localhost:8080/"
        },
        "id": "VEuTILmiFAad",
        "outputId": "48d46d06-8a4b-4fc6-808e-dbcc6aeaff3c"
      },
      "execution_count": null,
      "outputs": [
        {
          "output_type": "stream",
          "name": "stdout",
          "text": [
            "intake_method           0\n",
            "references              0\n",
            "age                     0\n",
            "town                    0\n",
            "insurance_carrier       0\n",
            "appointment_location    0\n",
            "appointment_type        0\n",
            "talk_therapy_type       0\n",
            "appointment_time        0\n",
            "dtype: int64\n"
          ]
        }
      ]
    },
    {
      "cell_type": "code",
      "source": [
        "# Number of unique values in each column\n",
        "df.nunique()"
      ],
      "metadata": {
        "colab": {
          "base_uri": "https://localhost:8080/",
          "height": 366
        },
        "id": "olIq6HaNFpSs",
        "outputId": "46b0a7d6-d8ad-4c97-c8c0-59ce5b683527"
      },
      "execution_count": null,
      "outputs": [
        {
          "output_type": "execute_result",
          "data": {
            "text/plain": [
              "intake_method             4\n",
              "references               13\n",
              "age                      45\n",
              "town                    191\n",
              "insurance_carrier        17\n",
              "appointment_location      3\n",
              "appointment_type          2\n",
              "talk_therapy_type         7\n",
              "appointment_time          3\n",
              "dtype: int64"
            ],
            "text/html": [
              "<div>\n",
              "<style scoped>\n",
              "    .dataframe tbody tr th:only-of-type {\n",
              "        vertical-align: middle;\n",
              "    }\n",
              "\n",
              "    .dataframe tbody tr th {\n",
              "        vertical-align: top;\n",
              "    }\n",
              "\n",
              "    .dataframe thead th {\n",
              "        text-align: right;\n",
              "    }\n",
              "</style>\n",
              "<table border=\"1\" class=\"dataframe\">\n",
              "  <thead>\n",
              "    <tr style=\"text-align: right;\">\n",
              "      <th></th>\n",
              "      <th>0</th>\n",
              "    </tr>\n",
              "  </thead>\n",
              "  <tbody>\n",
              "    <tr>\n",
              "      <th>intake_method</th>\n",
              "      <td>4</td>\n",
              "    </tr>\n",
              "    <tr>\n",
              "      <th>references</th>\n",
              "      <td>13</td>\n",
              "    </tr>\n",
              "    <tr>\n",
              "      <th>age</th>\n",
              "      <td>45</td>\n",
              "    </tr>\n",
              "    <tr>\n",
              "      <th>town</th>\n",
              "      <td>191</td>\n",
              "    </tr>\n",
              "    <tr>\n",
              "      <th>insurance_carrier</th>\n",
              "      <td>17</td>\n",
              "    </tr>\n",
              "    <tr>\n",
              "      <th>appointment_location</th>\n",
              "      <td>3</td>\n",
              "    </tr>\n",
              "    <tr>\n",
              "      <th>appointment_type</th>\n",
              "      <td>2</td>\n",
              "    </tr>\n",
              "    <tr>\n",
              "      <th>talk_therapy_type</th>\n",
              "      <td>7</td>\n",
              "    </tr>\n",
              "    <tr>\n",
              "      <th>appointment_time</th>\n",
              "      <td>3</td>\n",
              "    </tr>\n",
              "  </tbody>\n",
              "</table>\n",
              "</div><br><label><b>dtype:</b> int64</label>"
            ]
          },
          "metadata": {},
          "execution_count": 11
        }
      ]
    },
    {
      "cell_type": "markdown",
      "source": [
        "### Reducing number of categories"
      ],
      "metadata": {
        "id": "xgoJCTrxHvpd"
      }
    },
    {
      "cell_type": "markdown",
      "source": [
        "##### Group some of the categories for columns like age and town that have a large number of unique categories."
      ],
      "metadata": {
        "id": "pBVfiPPhJ_xK"
      }
    },
    {
      "cell_type": "code",
      "source": [],
      "metadata": {
        "id": "uO-19o93H2sz"
      },
      "execution_count": null,
      "outputs": []
    }
  ]
}